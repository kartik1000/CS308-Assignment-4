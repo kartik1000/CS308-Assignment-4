{
 "cells": [
  {
   "cell_type": "markdown",
   "metadata": {},
   "source": [
    "For detailed info - https://medium.com/@joseph.magiya/weather-data-and-forecasts-from-open-weather-api-1636691d5ba"
   ]
  },
  {
   "cell_type": "code",
   "execution_count": 75,
   "metadata": {},
   "outputs": [],
   "source": [
    "import requests\n",
    "import pandas as pd"
   ]
  },
  {
   "cell_type": "code",
   "execution_count": 76,
   "metadata": {},
   "outputs": [],
   "source": [
    "pd.options.display.max_columns = None\n",
    "pd.options.display.max_rows = None"
   ]
  },
  {
   "cell_type": "markdown",
   "metadata": {},
   "source": [
    "# Current Weather"
   ]
  },
  {
   "cell_type": "markdown",
   "metadata": {},
   "source": [
    " ### Using Coordinates"
   ]
  },
  {
   "cell_type": "markdown",
   "metadata": {},
   "source": [
    "Current Weather Format (Coordinates) - api.openweathermap.org/data/2.5/weather?lat={lat}&lon={lon}&appid={your api key}"
   ]
  },
  {
   "cell_type": "code",
   "execution_count": 54,
   "metadata": {},
   "outputs": [],
   "source": [
    "lat = 55.7047\n",
    "long = 13.1910\n",
    "lat_long = \"lat=\" + str(lat)+ \"&lon=\" + str(long)"
   ]
  },
  {
   "cell_type": "code",
   "execution_count": 55,
   "metadata": {},
   "outputs": [],
   "source": [
    "coord_API_endpoint = \"http://api.openweathermap.org/data/2.5/weather?\"\n",
    "lat_long = \"lat=\" + str(lat)+ \"&lon=\" + str(long)\n",
    "join_key = \"&appid=\" + \"7686f25ddee9d045def41fd27e2c576c\"\n",
    "units = \"&units=metric\""
   ]
  },
  {
   "cell_type": "code",
   "execution_count": 56,
   "metadata": {},
   "outputs": [],
   "source": [
    "current_coord_weather_url = coord_API_endpoint + lat_long + \"&units=metric&&appid=9d06d9b4825f10f79591ff063769f070\""
   ]
  },
  {
   "cell_type": "code",
   "execution_count": 57,
   "metadata": {
    "scrolled": false
   },
   "outputs": [
    {
     "name": "stdout",
     "output_type": "stream",
     "text": [
      "http://api.openweathermap.org/data/2.5/weather?lat=55.7047&lon=13.191&units=metric&&appid=9d06d9b4825f10f79591ff063769f070\n"
     ]
    }
   ],
   "source": [
    "print(current_coord_weather_url)"
   ]
  },
  {
   "cell_type": "markdown",
   "metadata": {},
   "source": [
    "### Using City Name"
   ]
  },
  {
   "cell_type": "markdown",
   "metadata": {},
   "source": [
    "Current Weather Format (City) - api.openweathermap.org/data/2.5/weather?q={city name},{state},{country code}&appid={your api key}"
   ]
  },
  {
   "cell_type": "code",
   "execution_count": 89,
   "metadata": {},
   "outputs": [],
   "source": [
    "City_API_endpoint = \"http://api.openweathermap.org/data/2.5/weather?q=\"\n",
    "City = \"Nairobi\"\n",
    "Country = \",KE,\"\n",
    "join_key = \"&appid=\" + \"7686f25ddee9d045def41fd27e2c576c\"\n",
    "units = \"&units=metric\""
   ]
  },
  {
   "cell_type": "code",
   "execution_count": 90,
   "metadata": {},
   "outputs": [],
   "source": [
    "current_city_weather = City_API_endpoint + City + Country + join_key + units"
   ]
  },
  {
   "cell_type": "code",
   "execution_count": 91,
   "metadata": {},
   "outputs": [
    {
     "name": "stdout",
     "output_type": "stream",
     "text": [
      "http://api.openweathermap.org/data/2.5/weather?q=Nairobi,KE,&appid=7686f25ddee9d045def41fd27e2c576c&units=metric\n"
     ]
    }
   ],
   "source": [
    "print(current_city_weather)"
   ]
  }
 ],
 "metadata": {
  "kernelspec": {
   "display_name": "Python 3",
   "language": "python",
   "name": "python3"
  },
  "language_info": {
   "codemirror_mode": {
    "name": "ipython",
    "version": 3
   },
   "file_extension": ".py",
   "mimetype": "text/x-python",
   "name": "python",
   "nbconvert_exporter": "python",
   "pygments_lexer": "ipython3",
   "version": "3.8.3"
  }
 },
 "nbformat": 4,
 "nbformat_minor": 2
}
