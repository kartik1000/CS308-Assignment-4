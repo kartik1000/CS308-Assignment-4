{
 "cells": [
  {
   "cell_type": "markdown",
   "metadata": {},
   "source": [
    "For detailed info - https://medium.com/@joseph.magiya/weather-data-and-forecasts-from-open-weather-api-1636691d5ba"
   ]
  },
  {
   "cell_type": "code",
   "execution_count": 75,
   "metadata": {},
   "outputs": [],
   "source": [
    "import requests\n",
    "import pandas as pd"
   ]
  },
  {
   "cell_type": "code",
   "execution_count": 76,
   "metadata": {},
   "outputs": [],
   "source": [
    "pd.options.display.max_columns = None\n",
    "pd.options.display.max_rows = None"
   ]
  },
  {
   "cell_type": "markdown",
   "metadata": {},
   "source": [
    "# Current Weather"
   ]
  },
  {
   "cell_type": "markdown",
   "metadata": {},
   "source": [
    " ### Using Coordinates"
   ]
  },
  {
   "cell_type": "markdown",
   "metadata": {},
   "source": [
    "Current Weather Format (Coordinates) - api.openweathermap.org/data/2.5/weather?lat={lat}&lon={lon}&appid={your api key}"
   ]
  },
  {
   "cell_type": "code",
   "execution_count": 54,
   "metadata": {},
   "outputs": [],
   "source": [
    "lat = 55.7047\n",
    "long = 13.1910\n",
    "lat_long = \"lat=\" + str(lat)+ \"&lon=\" + str(long)"
   ]
  },
  {
   "cell_type": "code",
   "execution_count": 55,
   "metadata": {},
   "outputs": [],
   "source": [
    "coord_API_endpoint = \"http://api.openweathermap.org/data/2.5/weather?\"\n",
    "lat_long = \"lat=\" + str(lat)+ \"&lon=\" + str(long)\n",
    "join_key = \"&appid=\" + \"7686f25ddee9d045def41fd27e2c576c\"\n",
    "units = \"&units=metric\""
   ]
  },
  {
   "cell_type": "code",
   "execution_count": 56,
   "metadata": {},
   "outputs": [],
   "source": [
    "current_coord_weather_url = coord_API_endpoint + lat_long + \"&units=metric&&appid=9d06d9b4825f10f79591ff063769f070\""
   ]
  },
  {
   "cell_type": "code",
   "execution_count": 57,
   "metadata": {
    "scrolled": false
   },
   "outputs": [
    {
     "name": "stdout",
     "output_type": "stream",
     "text": [
      "http://api.openweathermap.org/data/2.5/weather?lat=55.7047&lon=13.191&units=metric&&appid=9d06d9b4825f10f79591ff063769f070\n"
     ]
    }
   ],
   "source": [
    "print(current_coord_weather_url)"
   ]
  },
  {
   "cell_type": "markdown",
   "metadata": {},
   "source": [
    "### Using City Name"
   ]
  },
  {
   "cell_type": "markdown",
   "metadata": {},
   "source": [
    "Current Weather Format (City) - api.openweathermap.org/data/2.5/weather?q={city name},{state},{country code}&appid={your api key}"
   ]
  },
  {
   "cell_type": "code",
   "execution_count": 89,
   "metadata": {},
   "outputs": [],
   "source": [
    "City_API_endpoint = \"http://api.openweathermap.org/data/2.5/weather?q=\"\n",
    "City = \"Nairobi\"\n",
    "Country = \",KE,\"\n",
    "join_key = \"&appid=\" + \"7686f25ddee9d045def41fd27e2c576c\"\n",
    "units = \"&units=metric\""
   ]
  },
  {
   "cell_type": "code",
   "execution_count": 90,
   "metadata": {},
   "outputs": [],
   "source": [
    "current_city_weather = City_API_endpoint + City + Country + join_key + units"
   ]
  },
  {
   "cell_type": "code",
   "execution_count": 91,
   "metadata": {},
   "outputs": [
    {
     "name": "stdout",
     "output_type": "stream",
     "text": [
      "http://api.openweathermap.org/data/2.5/weather?q=Nairobi,KE,&appid=7686f25ddee9d045def41fd27e2c576c&units=metric\n"
     ]
    }
   ],
   "source": [
    "print(current_city_weather)"
   ]
  },
  {
   "cell_type": "markdown",
   "metadata": {},
   "source": [
    "# Reading the Data"
   ]
  },
  {
   "cell_type": "code",
   "execution_count": 139,
   "metadata": {},
   "outputs": [],
   "source": [
    "json_data = requests.get(current_coord_weather_url).json()"
   ]
  },
  {
   "cell_type": "code",
   "execution_count": 140,
   "metadata": {},
   "outputs": [
    {
     "name": "stdout",
     "output_type": "stream",
     "text": [
      "{'coord': {'lon': 76.39, 'lat': 30.62}, 'weather': [{'id': 800, 'main': 'Clear', 'description': 'clear sky', 'icon': '01n'}], 'base': 'stations', 'main': {'temp': 17.61, 'feels_like': 14.92, 'temp_min': 17.61, 'temp_max': 17.61, 'pressure': 1017, 'humidity': 28, 'sea_level': 1017, 'grnd_level': 985}, 'visibility': 10000, 'wind': {'speed': 0.78, 'deg': 325}, 'clouds': {'all': 0}, 'dt': 1606658754, 'sys': {'country': 'IN', 'sunrise': 1606613563, 'sunset': 1606650797}, 'timezone': 19800, 'id': 1256087, 'name': 'Sirhind', 'cod': 200}\n"
     ]
    }
   ],
   "source": [
    "print(json_data)"
   ]
  },
  {
   "cell_type": "markdown",
   "metadata": {},
   "source": [
    "# Putting The Data into a DataFrame"
   ]
  },
  {
   "cell_type": "code",
   "execution_count": 141,
   "metadata": {},
   "outputs": [],
   "source": [
    "df_all_current_weather = pd.DataFrame()\n",
    "prediction_num = 0"
   ]
  },
  {
   "cell_type": "code",
   "execution_count": 142,
   "metadata": {},
   "outputs": [],
   "source": [
    "# Create empty lists to store the JSON Data\n",
    "current_weather_id = []\n",
    "current_time = []\n",
    "own_city_id = []\n",
    "city = []\n",
    "latitude = []\n",
    "longitude = []\n",
    "country = []\n",
    "timezone = []\n",
    "sunrise = []\n",
    "sunset = []\n",
    "temperature = []\n",
    "temperature_feel = []\n",
    "temperature_min = []\n",
    "temperature_max = []\n",
    "pressure = []\n",
    "humidity = []\n",
    "main = []\n",
    "main_description = []\n",
    "clouds = []\n",
    "wind_speed = []\n",
    "wind_degree = []\n",
    "visibility = []"
   ]
  },
  {
   "cell_type": "code",
   "execution_count": 143,
   "metadata": {},
   "outputs": [],
   "source": [
    "# Add JSON Data to the lists\n",
    "prediction_num +=1\n",
    "current_weather_id.append(prediction_num + 1)\n",
    "current_time.append(pd.Timestamp.now())\n",
    "own_city_id.append(json_data['id'])\n",
    "city.append(json_data['name'])\n",
    "latitude.append(json_data['coord']['lat'])\n",
    "longitude.append(json_data['coord']['lon'])\n",
    "country.append(json_data['sys']['country'])\n",
    "if json_data['timezone'] >0 :\n",
    "    timezone.append((\"+\" + str((json_data['timezone'])/3600)))\n",
    "else:\n",
    "    timezone.append(((json_data['timezone'])/3600))\n",
    "sunrise.append(json_data['sys']['sunrise'])\n",
    "sunset.append(json_data['sys']['sunset'])\n",
    "temperature.append(json_data['main']['temp'])\n",
    "temperature_feel.append(json_data['main']['feels_like'])\n",
    "temperature_min.append(json_data['main']['temp_min'])\n",
    "temperature_max.append(json_data['main']['temp_max'])\n",
    "pressure.append(json_data['main']['pressure'])\n",
    "humidity.append(json_data['main']['humidity'])\n",
    "main.append(json_data['weather'][0]['main'])\n",
    "main_description.append(json_data['weather'][0]['description'])\n",
    "clouds.append(json_data['clouds']['all'])\n",
    "wind_speed.append(json_data['wind']['speed'])\n",
    "wind_degree.append(json_data['wind']['deg'])\n",
    "visibility.append(json_data['visibility'])"
   ]
  },
  {
   "cell_type": "code",
   "execution_count": 144,
   "metadata": {},
   "outputs": [],
   "source": [
    "# Write Lists to DataFrame\n",
    "df_all_current_weather['current_weather_id'] = current_weather_id\n",
    "df_all_current_weather['current_time'] = current_time\n",
    "# df_all_current_weather['own_city_id'] = own_city_id\n",
    "df_all_current_weather['city'] = city\n",
    "df_all_current_weather['latitude'] = latitude\n",
    "df_all_current_weather['longitude'] = longitude\n",
    "df_all_current_weather['country'] = country\n",
    "df_all_current_weather['timezone'] = timezone\n",
    "df_all_current_weather['sunrise'] = sunrise\n",
    "df_all_current_weather['sunset'] = sunset\n",
    "df_all_current_weather['temperature'] = temperature\n",
    "df_all_current_weather['temperature_feel'] = temperature_feel\n",
    "df_all_current_weather['temperature_min'] = temperature_min\n",
    "df_all_current_weather['temperature_max'] = temperature_max\n",
    "df_all_current_weather['pressure'] = pressure\n",
    "df_all_current_weather['humidity'] = humidity\n",
    "df_all_current_weather['main'] = main\n",
    "df_all_current_weather['main_description'] = main_description\n",
    "df_all_current_weather['clouds'] = clouds\n",
    "df_all_current_weather['wind_speed'] = wind_speed\n",
    "df_all_current_weather['wind_degree'] = wind_degree\n",
    "df_all_current_weather['visibility'] = visibility"
   ]
  },
  {
   "cell_type": "code",
   "execution_count": 159,
   "metadata": {
    "scrolled": false
   },
   "outputs": [
    {
     "data": {
      "text/html": [
       "<div>\n",
       "<style scoped>\n",
       "    .dataframe tbody tr th:only-of-type {\n",
       "        vertical-align: middle;\n",
       "    }\n",
       "\n",
       "    .dataframe tbody tr th {\n",
       "        vertical-align: top;\n",
       "    }\n",
       "\n",
       "    .dataframe thead th {\n",
       "        text-align: right;\n",
       "    }\n",
       "</style>\n",
       "<table border=\"1\" class=\"dataframe\">\n",
       "  <thead>\n",
       "    <tr style=\"text-align: right;\">\n",
       "      <th></th>\n",
       "      <th>current_weather_id</th>\n",
       "      <th>current_time</th>\n",
       "      <th>city</th>\n",
       "      <th>latitude</th>\n",
       "      <th>longitude</th>\n",
       "      <th>country</th>\n",
       "      <th>timezone</th>\n",
       "      <th>sunrise</th>\n",
       "      <th>sunset</th>\n",
       "      <th>temperature</th>\n",
       "      <th>temperature_feel</th>\n",
       "      <th>temperature_min</th>\n",
       "      <th>temperature_max</th>\n",
       "      <th>pressure</th>\n",
       "      <th>humidity</th>\n",
       "      <th>main</th>\n",
       "      <th>main_description</th>\n",
       "      <th>clouds</th>\n",
       "      <th>wind_speed</th>\n",
       "      <th>wind_degree</th>\n",
       "      <th>visibility</th>\n",
       "    </tr>\n",
       "  </thead>\n",
       "  <tbody>\n",
       "    <tr>\n",
       "      <th>0</th>\n",
       "      <td>2</td>\n",
       "      <td>2020-11-29 19:36:13.508029</td>\n",
       "      <td>Sirhind</td>\n",
       "      <td>30.62</td>\n",
       "      <td>76.39</td>\n",
       "      <td>IN</td>\n",
       "      <td>+5.5</td>\n",
       "      <td>1606613563</td>\n",
       "      <td>1606650797</td>\n",
       "      <td>17.61</td>\n",
       "      <td>14.92</td>\n",
       "      <td>17.61</td>\n",
       "      <td>17.61</td>\n",
       "      <td>1017</td>\n",
       "      <td>28</td>\n",
       "      <td>Clear</td>\n",
       "      <td>clear sky</td>\n",
       "      <td>0</td>\n",
       "      <td>0.78</td>\n",
       "      <td>325</td>\n",
       "      <td>10000</td>\n",
       "    </tr>\n",
       "  </tbody>\n",
       "</table>\n",
       "</div>"
      ],
      "text/plain": [
       "   current_weather_id               current_time     city  latitude  \\\n",
       "0                   2 2020-11-29 19:36:13.508029  Sirhind     30.62   \n",
       "\n",
       "   longitude country timezone     sunrise      sunset  temperature  \\\n",
       "0      76.39      IN     +5.5  1606613563  1606650797        17.61   \n",
       "\n",
       "   temperature_feel  temperature_min  temperature_max  pressure  humidity  \\\n",
       "0             14.92            17.61            17.61      1017        28   \n",
       "\n",
       "    main main_description  clouds  wind_speed  wind_degree  visibility  \n",
       "0  Clear        clear sky       0        0.78          325       10000  "
      ]
     },
     "execution_count": 159,
     "metadata": {},
     "output_type": "execute_result"
    }
   ],
   "source": [
    "df_all_current_weather.head(5)"
   ]
  }
 ],
 "metadata": {
  "kernelspec": {
   "display_name": "Python 3",
   "language": "python",
   "name": "python3"
  },
  "language_info": {
   "codemirror_mode": {
    "name": "ipython",
    "version": 3
   },
   "file_extension": ".py",
   "mimetype": "text/x-python",
   "name": "python",
   "nbconvert_exporter": "python",
   "pygments_lexer": "ipython3",
   "version": "3.8.3"
  }
 },
 "nbformat": 4,
 "nbformat_minor": 2
}
