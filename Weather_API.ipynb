{
 "cells": [
  {
   "cell_type": "markdown",
   "metadata": {},
   "source": [
    "For detailed info - https://medium.com/@joseph.magiya/weather-data-and-forecasts-from-open-weather-api-1636691d5ba"
   ]
  },
  {
   "cell_type": "code",
   "execution_count": 75,
   "metadata": {},
   "outputs": [],
   "source": [
    "import requests\n",
    "import pandas as pd"
   ]
  },
  {
   "cell_type": "code",
   "execution_count": 76,
   "metadata": {},
   "outputs": [],
   "source": [
    "pd.options.display.max_columns = None\n",
    "pd.options.display.max_rows = None"
   ]
  },
  {
   "cell_type": "markdown",
   "metadata": {},
   "source": [
    "# Current Weather"
   ]
  },
  {
   "cell_type": "markdown",
   "metadata": {},
   "source": [
    " ### Using Coordinates"
   ]
  },
  {
   "cell_type": "markdown",
   "metadata": {},
   "source": [
    "Current Weather Format (Coordinates) - api.openweathermap.org/data/2.5/weather?lat={lat}&lon={lon}&appid={your api key}"
   ]
  },
  {
   "cell_type": "code",
   "execution_count": 54,
   "metadata": {},
   "outputs": [],
   "source": [
    "lat = 55.7047\n",
    "long = 13.1910\n",
    "lat_long = \"lat=\" + str(lat)+ \"&lon=\" + str(long)"
   ]
  },
  {
   "cell_type": "code",
   "execution_count": 55,
   "metadata": {},
   "outputs": [],
   "source": [
    "coord_API_endpoint = \"http://api.openweathermap.org/data/2.5/weather?\"\n",
    "lat_long = \"lat=\" + str(lat)+ \"&lon=\" + str(long)\n",
    "join_key = \"&appid=\" + \"7686f25ddee9d045def41fd27e2c576c\"\n",
    "units = \"&units=metric\""
   ]
  },
  {
   "cell_type": "code",
   "execution_count": 56,
   "metadata": {},
   "outputs": [],
   "source": [
    "current_coord_weather_url = coord_API_endpoint + lat_long + \"&units=metric&&appid=9d06d9b4825f10f79591ff063769f070\""
   ]
  },
  {
   "cell_type": "code",
   "execution_count": 57,
   "metadata": {
    "scrolled": false
   },
   "outputs": [
    {
     "name": "stdout",
     "output_type": "stream",
     "text": [
      "http://api.openweathermap.org/data/2.5/weather?lat=55.7047&lon=13.191&units=metric&&appid=9d06d9b4825f10f79591ff063769f070\n"
     ]
    }
   ],
   "source": [
    "print(current_coord_weather_url)"
   ]
  },
  {
   "cell_type": "markdown",
   "metadata": {},
   "source": [
    "### Using City Name"
   ]
  },
  {
   "cell_type": "markdown",
   "metadata": {},
   "source": [
    "Current Weather Format (City) - api.openweathermap.org/data/2.5/weather?q={city name},{state},{country code}&appid={your api key}"
   ]
  },
  {
   "cell_type": "code",
   "execution_count": 89,
   "metadata": {},
   "outputs": [],
   "source": [
    "City_API_endpoint = \"http://api.openweathermap.org/data/2.5/weather?q=\"\n",
    "City = \"Nairobi\"\n",
    "Country = \",KE,\"\n",
    "join_key = \"&appid=\" + \"7686f25ddee9d045def41fd27e2c576c\"\n",
    "units = \"&units=metric\""
   ]
  },
  {
   "cell_type": "code",
   "execution_count": 90,
   "metadata": {},
   "outputs": [],
   "source": [
    "current_city_weather = City_API_endpoint + City + Country + join_key + units"
   ]
  },
  {
   "cell_type": "code",
   "execution_count": 91,
   "metadata": {},
   "outputs": [
    {
     "name": "stdout",
     "output_type": "stream",
     "text": [
      "http://api.openweathermap.org/data/2.5/weather?q=Nairobi,KE,&appid=7686f25ddee9d045def41fd27e2c576c&units=metric\n"
     ]
    }
   ],
   "source": [
    "print(current_city_weather)"
   ]
  },
  {
   "cell_type": "markdown",
   "metadata": {},
   "source": [
    "# Reading the Data"
   ]
  },
  {
   "cell_type": "code",
   "execution_count": 139,
   "metadata": {},
   "outputs": [],
   "source": [
    "json_data = requests.get(current_coord_weather_url).json()"
   ]
  },
  {
   "cell_type": "code",
   "execution_count": 140,
   "metadata": {},
   "outputs": [
    {
     "name": "stdout",
     "output_type": "stream",
     "text": [
      "{'coord': {'lon': 76.39, 'lat': 30.62}, 'weather': [{'id': 800, 'main': 'Clear', 'description': 'clear sky', 'icon': '01n'}], 'base': 'stations', 'main': {'temp': 17.61, 'feels_like': 14.92, 'temp_min': 17.61, 'temp_max': 17.61, 'pressure': 1017, 'humidity': 28, 'sea_level': 1017, 'grnd_level': 985}, 'visibility': 10000, 'wind': {'speed': 0.78, 'deg': 325}, 'clouds': {'all': 0}, 'dt': 1606658754, 'sys': {'country': 'IN', 'sunrise': 1606613563, 'sunset': 1606650797}, 'timezone': 19800, 'id': 1256087, 'name': 'Sirhind', 'cod': 200}\n"
     ]
    }
   ],
   "source": [
    "print(json_data)"
   ]
  },
  {
   "cell_type": "markdown",
   "metadata": {},
   "source": [
    "# Putting The Data into a DataFrame"
   ]
  },
  {
   "cell_type": "code",
   "execution_count": 141,
   "metadata": {},
   "outputs": [],
   "source": [
    "df_all_current_weather = pd.DataFrame()\n",
    "prediction_num = 0"
   ]
  },
  {
   "cell_type": "code",
   "execution_count": 142,
   "metadata": {},
   "outputs": [],
   "source": [
    "# Create empty lists to store the JSON Data\n",
    "current_weather_id = []\n",
    "current_time = []\n",
    "own_city_id = []\n",
    "city = []\n",
    "latitude = []\n",
    "longitude = []\n",
    "country = []\n",
    "timezone = []\n",
    "sunrise = []\n",
    "sunset = []\n",
    "temperature = []\n",
    "temperature_feel = []\n",
    "temperature_min = []\n",
    "temperature_max = []\n",
    "pressure = []\n",
    "humidity = []\n",
    "main = []\n",
    "main_description = []\n",
    "clouds = []\n",
    "wind_speed = []\n",
    "wind_degree = []\n",
    "visibility = []"
   ]
  },
  {
   "cell_type": "code",
   "execution_count": 143,
   "metadata": {},
   "outputs": [],
   "source": [
    "# Add JSON Data to the lists\n",
    "prediction_num +=1\n",
    "current_weather_id.append(prediction_num + 1)\n",
    "current_time.append(pd.Timestamp.now())\n",
    "own_city_id.append(json_data['id'])\n",
    "city.append(json_data['name'])\n",
    "latitude.append(json_data['coord']['lat'])\n",
    "longitude.append(json_data['coord']['lon'])\n",
    "country.append(json_data['sys']['country'])\n",
    "if json_data['timezone'] >0 :\n",
    "    timezone.append((\"+\" + str((json_data['timezone'])/3600)))\n",
    "else:\n",
    "    timezone.append(((json_data['timezone'])/3600))\n",
    "sunrise.append(json_data['sys']['sunrise'])\n",
    "sunset.append(json_data['sys']['sunset'])\n",
    "temperature.append(json_data['main']['temp'])\n",
    "temperature_feel.append(json_data['main']['feels_like'])\n",
    "temperature_min.append(json_data['main']['temp_min'])\n",
    "temperature_max.append(json_data['main']['temp_max'])\n",
    "pressure.append(json_data['main']['pressure'])\n",
    "humidity.append(json_data['main']['humidity'])\n",
    "main.append(json_data['weather'][0]['main'])\n",
    "main_description.append(json_data['weather'][0]['description'])\n",
    "clouds.append(json_data['clouds']['all'])\n",
    "wind_speed.append(json_data['wind']['speed'])\n",
    "wind_degree.append(json_data['wind']['deg'])\n",
    "visibility.append(json_data['visibility'])"
   ]
  },
  {
   "cell_type": "code",
   "execution_count": 144,
   "metadata": {},
   "outputs": [],
   "source": [
    "# Write Lists to DataFrame\n",
    "df_all_current_weather['current_weather_id'] = current_weather_id\n",
    "df_all_current_weather['current_time'] = current_time\n",
    "# df_all_current_weather['own_city_id'] = own_city_id\n",
    "df_all_current_weather['city'] = city\n",
    "df_all_current_weather['latitude'] = latitude\n",
    "df_all_current_weather['longitude'] = longitude\n",
    "df_all_current_weather['country'] = country\n",
    "df_all_current_weather['timezone'] = timezone\n",
    "df_all_current_weather['sunrise'] = sunrise\n",
    "df_all_current_weather['sunset'] = sunset\n",
    "df_all_current_weather['temperature'] = temperature\n",
    "df_all_current_weather['temperature_feel'] = temperature_feel\n",
    "df_all_current_weather['temperature_min'] = temperature_min\n",
    "df_all_current_weather['temperature_max'] = temperature_max\n",
    "df_all_current_weather['pressure'] = pressure\n",
    "df_all_current_weather['humidity'] = humidity\n",
    "df_all_current_weather['main'] = main\n",
    "df_all_current_weather['main_description'] = main_description\n",
    "df_all_current_weather['clouds'] = clouds\n",
    "df_all_current_weather['wind_speed'] = wind_speed\n",
    "df_all_current_weather['wind_degree'] = wind_degree\n",
    "df_all_current_weather['visibility'] = visibility"
   ]
  },
  {
   "cell_type": "code",
   "execution_count": 159,
   "metadata": {},
   "outputs": [
    {
     "data": {
      "text/html": [
       "<div>\n",
       "<style scoped>\n",
       "    .dataframe tbody tr th:only-of-type {\n",
       "        vertical-align: middle;\n",
       "    }\n",
       "\n",
       "    .dataframe tbody tr th {\n",
       "        vertical-align: top;\n",
       "    }\n",
       "\n",
       "    .dataframe thead th {\n",
       "        text-align: right;\n",
       "    }\n",
       "</style>\n",
       "<table border=\"1\" class=\"dataframe\">\n",
       "  <thead>\n",
       "    <tr style=\"text-align: right;\">\n",
       "      <th></th>\n",
       "      <th>current_weather_id</th>\n",
       "      <th>current_time</th>\n",
       "      <th>city</th>\n",
       "      <th>latitude</th>\n",
       "      <th>longitude</th>\n",
       "      <th>country</th>\n",
       "      <th>timezone</th>\n",
       "      <th>sunrise</th>\n",
       "      <th>sunset</th>\n",
       "      <th>temperature</th>\n",
       "      <th>temperature_feel</th>\n",
       "      <th>temperature_min</th>\n",
       "      <th>temperature_max</th>\n",
       "      <th>pressure</th>\n",
       "      <th>humidity</th>\n",
       "      <th>main</th>\n",
       "      <th>main_description</th>\n",
       "      <th>clouds</th>\n",
       "      <th>wind_speed</th>\n",
       "      <th>wind_degree</th>\n",
       "      <th>visibility</th>\n",
       "    </tr>\n",
       "  </thead>\n",
       "  <tbody>\n",
       "    <tr>\n",
       "      <th>0</th>\n",
       "      <td>2</td>\n",
       "      <td>2020-11-29 19:36:13.508029</td>\n",
       "      <td>Sirhind</td>\n",
       "      <td>30.62</td>\n",
       "      <td>76.39</td>\n",
       "      <td>IN</td>\n",
       "      <td>+5.5</td>\n",
       "      <td>1606613563</td>\n",
       "      <td>1606650797</td>\n",
       "      <td>17.61</td>\n",
       "      <td>14.92</td>\n",
       "      <td>17.61</td>\n",
       "      <td>17.61</td>\n",
       "      <td>1017</td>\n",
       "      <td>28</td>\n",
       "      <td>Clear</td>\n",
       "      <td>clear sky</td>\n",
       "      <td>0</td>\n",
       "      <td>0.78</td>\n",
       "      <td>325</td>\n",
       "      <td>10000</td>\n",
       "    </tr>\n",
       "  </tbody>\n",
       "</table>\n",
       "</div>"
      ],
      "text/plain": [
       "   current_weather_id               current_time     city  latitude  \\\n",
       "0                   2 2020-11-29 19:36:13.508029  Sirhind     30.62   \n",
       "\n",
       "   longitude country timezone     sunrise      sunset  temperature  \\\n",
       "0      76.39      IN     +5.5  1606613563  1606650797        17.61   \n",
       "\n",
       "   temperature_feel  temperature_min  temperature_max  pressure  humidity  \\\n",
       "0             14.92            17.61            17.61      1017        28   \n",
       "\n",
       "    main main_description  clouds  wind_speed  wind_degree  visibility  \n",
       "0  Clear        clear sky       0        0.78          325       10000  "
      ]
     },
     "execution_count": 159,
     "metadata": {},
     "output_type": "execute_result"
    }
   ],
   "source": [
    "df_all_current_weather.head(5)"
   ]
  },
  {
   "cell_type": "markdown",
   "metadata": {},
   "source": [
    "# Forecast"
   ]
  },
  {
   "cell_type": "markdown",
   "metadata": {},
   "source": [
    "### Forecast Data Using Coordinates"
   ]
  },
  {
   "cell_type": "markdown",
   "metadata": {},
   "source": [
    "Format - api.openweathermap.org/data/2.5/forecast?lat={lat}&lon={lon}&appid={your api key}"
   ]
  },
  {
   "cell_type": "code",
   "execution_count": 44,
   "metadata": {},
   "outputs": [],
   "source": [
    "lat = -1.2999792\n",
    "long = 36.7728897\n",
    "lat_long = \"lat=\" + str(lat)+ \"&lon=\" + str(long)"
   ]
  },
  {
   "cell_type": "code",
   "execution_count": 45,
   "metadata": {},
   "outputs": [],
   "source": [
    "coord_API_endpoint = \"http://api.openweathermap.org/data/2.5/forecast?\"\n",
    "lat_long = \"lat=\" + str(lat)+ \"&lon=\" + str(long)\n",
    "join_key = \"&appid=\" + \"your_API_Key\"\n",
    "units = \"&units=metric\""
   ]
  },
  {
   "cell_type": "code",
   "execution_count": 46,
   "metadata": {},
   "outputs": [],
   "source": [
    "forecast_coord_weather_url = coord_API_endpoint + lat_long + join_key + units"
   ]
  },
  {
   "cell_type": "code",
   "execution_count": 47,
   "metadata": {},
   "outputs": [
    {
     "name": "stdout",
     "output_type": "stream",
     "text": [
      "http://api.openweathermap.org/data/2.5/forecast?lat=-1.2999792&lon=36.7728897&appid=your_API_Key&units=metric\n"
     ]
    }
   ],
   "source": [
    "print (forecast_coord_weather_url)"
   ]
  },
  {
   "cell_type": "markdown",
   "metadata": {},
   "source": [
    "### By City Name"
   ]
  },
  {
   "cell_type": "markdown",
   "metadata": {},
   "source": [
    "Format - api.openweathermap.org/data/2.5/forecast?q={city name},{state},{country code}&appid={your api key}"
   ]
  },
  {
   "cell_type": "code",
   "execution_count": 61,
   "metadata": {},
   "outputs": [],
   "source": [
    "City_API_endpoint = \"http://api.openweathermap.org/data/2.5/forecast?q=\"\n",
    "City = \"Nairobi\"\n",
    "Country = \",KE,\"\n",
    "join_key = \"&appid=\" + \"7686f25ddee9d045def41fd27e2c576c\"\n",
    "units = \"&units=metric\""
   ]
  },
  {
   "cell_type": "code",
   "execution_count": 62,
   "metadata": {},
   "outputs": [],
   "source": [
    "city_forecast = City_API_endpoint + City + Country + join_key + units"
   ]
  },
  {
   "cell_type": "code",
   "execution_count": 63,
   "metadata": {},
   "outputs": [
    {
     "name": "stdout",
     "output_type": "stream",
     "text": [
      "http://api.openweathermap.org/data/2.5/forecast?q=Nairobi,KE,&appid=7686f25ddee9d045def41fd27e2c576c&units=metric\n"
     ]
    }
   ],
   "source": [
    "print(city_forecast)"
   ]
  },
  {
   "cell_type": "markdown",
   "metadata": {},
   "source": [
    "# Requesting for the Forecast Weather Data"
   ]
  },
  {
   "cell_type": "code",
   "execution_count": 64,
   "metadata": {},
   "outputs": [],
   "source": [
    "forecast_json_data = requests.get(city_forecast).json()"
   ]
  },
  {
   "cell_type": "code",
   "execution_count": 65,
   "metadata": {},
   "outputs": [
    {
     "name": "stdout",
     "output_type": "stream",
     "text": [
      "{'cod': 401, 'message': 'Invalid API key. Please see http://openweathermap.org/faq#error401 for more info.'}\n"
     ]
    }
   ],
   "source": [
    "print (forecast_json_data)"
   ]
  },
  {
   "cell_type": "code",
   "execution_count": 66,
   "metadata": {},
   "outputs": [],
   "source": [
    "# forecast_main = forecast_json_data['weather'][0]['main']\n",
    "# forecast_main_description = forecast_json_data['weather'][0]['description']\n",
    "# forecast_temperature = forecast_json_data['main']['temp']\n",
    "# forecast_temperature_feel = forecast_json_data['main']['feels_like']\n",
    "# forecast_temperature_min = forecast_json_data['main']['temp_min']\n",
    "# forecast_temperature_max = forecast_json_data['main']['temp_max']\n",
    "# forecast_pressure = forecast_json_data['main']['pressure']\n",
    "# forecast_humidity = forecast_json_data['main']['humidity']\n",
    "# forecast_visibility = forecast_json_data['visibility']\n",
    "# forecast_wind_speed = forecast_json_data['wind']['speed']\n",
    "# forecast_wind_degree = forecast_json_data['wind']['deg']"
   ]
  },
  {
   "cell_type": "code",
   "execution_count": 67,
   "metadata": {},
   "outputs": [
    {
     "ename": "KeyError",
     "evalue": "'list'",
     "output_type": "error",
     "traceback": [
      "\u001b[1;31m---------------------------------------------------------------------------\u001b[0m",
      "\u001b[1;31mKeyError\u001b[0m                                  Traceback (most recent call last)",
      "\u001b[1;32m<ipython-input-67-8f6d2fdc4072>\u001b[0m in \u001b[0;36m<module>\u001b[1;34m\u001b[0m\n\u001b[1;32m----> 1\u001b[1;33m \u001b[0mforecast_main\u001b[0m \u001b[1;33m=\u001b[0m \u001b[0mforecast_json_data\u001b[0m\u001b[1;33m[\u001b[0m\u001b[1;34m'list'\u001b[0m\u001b[1;33m]\u001b[0m\u001b[1;33m[\u001b[0m\u001b[1;36m0\u001b[0m\u001b[1;33m]\u001b[0m\u001b[1;33m[\u001b[0m\u001b[1;34m'main'\u001b[0m\u001b[1;33m]\u001b[0m\u001b[1;33m\u001b[0m\u001b[1;33m\u001b[0m\u001b[0m\n\u001b[0m",
      "\u001b[1;31mKeyError\u001b[0m: 'list'"
     ]
    }
   ],
   "source": [
    "forecast_main = forecast_json_data['list'][0]['main']"
   ]
  },
  {
   "cell_type": "code",
   "execution_count": 68,
   "metadata": {},
   "outputs": [
    {
     "ename": "KeyError",
     "evalue": "'list'",
     "output_type": "error",
     "traceback": [
      "\u001b[1;31m---------------------------------------------------------------------------\u001b[0m",
      "\u001b[1;31mKeyError\u001b[0m                                  Traceback (most recent call last)",
      "\u001b[1;32m<ipython-input-68-0a576440d07f>\u001b[0m in \u001b[0;36m<module>\u001b[1;34m\u001b[0m\n\u001b[1;32m----> 1\u001b[1;33m \u001b[0mnum_forecasts\u001b[0m \u001b[1;33m=\u001b[0m \u001b[0mlen\u001b[0m\u001b[1;33m(\u001b[0m\u001b[0mforecast_json_data\u001b[0m\u001b[1;33m[\u001b[0m\u001b[1;34m'list'\u001b[0m\u001b[1;33m]\u001b[0m\u001b[1;33m)\u001b[0m\u001b[1;33m\u001b[0m\u001b[1;33m\u001b[0m\u001b[0m\n\u001b[0m\u001b[0;32m      2\u001b[0m \u001b[0mnum_forecasts\u001b[0m\u001b[1;33m\u001b[0m\u001b[1;33m\u001b[0m\u001b[0m\n",
      "\u001b[1;31mKeyError\u001b[0m: 'list'"
     ]
    }
   ],
   "source": [
    "num_forecasts = len(forecast_json_data['list'])\n",
    "num_forecasts"
   ]
  },
  {
   "cell_type": "code",
   "execution_count": 69,
   "metadata": {},
   "outputs": [
    {
     "ename": "KeyError",
     "evalue": "'city'",
     "output_type": "error",
     "traceback": [
      "\u001b[1;31m---------------------------------------------------------------------------\u001b[0m",
      "\u001b[1;31mKeyError\u001b[0m                                  Traceback (most recent call last)",
      "\u001b[1;32m<ipython-input-69-c89c4cb7f870>\u001b[0m in \u001b[0;36m<module>\u001b[1;34m\u001b[0m\n\u001b[1;32m----> 1\u001b[1;33m \u001b[0mforecast_json_data\u001b[0m\u001b[1;33m[\u001b[0m\u001b[1;34m'city'\u001b[0m\u001b[1;33m]\u001b[0m\u001b[1;33m\u001b[0m\u001b[1;33m\u001b[0m\u001b[0m\n\u001b[0m",
      "\u001b[1;31mKeyError\u001b[0m: 'city'"
     ]
    }
   ],
   "source": [
    "forecast_json_data['city']"
   ]
  },
  {
   "cell_type": "markdown",
   "metadata": {},
   "source": [
    "# Putting The Current Weather Data into a Pandas Data Frame"
   ]
  },
  {
   "cell_type": "code",
   "execution_count": 70,
   "metadata": {},
   "outputs": [],
   "source": [
    "df_predictions = pd.DataFrame()"
   ]
  },
  {
   "cell_type": "code",
   "execution_count": 71,
   "metadata": {},
   "outputs": [],
   "source": [
    "# Creating empty lists\n",
    "prediction_num = 0\n",
    "list_prediction_num = []\n",
    "date_time_prediction = []\n",
    "owm_city_id = []\n",
    "city_name = []\n",
    "latitude = []\n",
    "longitude = []\n",
    "country_name = []\n",
    "population = []\n",
    "timezone = [] # Shift in seconds from UTC\n",
    "sunrise = []\n",
    "sunset = []\n",
    "# Main\n",
    "temp_prediction = []\n",
    "temp_feels_like_prediction = []\n",
    "temp_min_prediction = []\n",
    "temp_max_prediction = []\n",
    "pressure_prediction = []\n",
    "sea_level_prediction = []\n",
    "grnd_level_prediction = []\n",
    "humidity_prediction = []\n",
    "temp_kf_prediction = []\n",
    "# Weather\n",
    "main_weather_prediction = []\n",
    "main_weather_description_prediction = []\n",
    "# Clouds\n",
    "clouds_prediction = []\n",
    "# Wind\n",
    "wind_speed_prediction = []\n",
    "wind_degree_prediction = []"
   ]
  },
  {
   "cell_type": "code",
   "execution_count": 72,
   "metadata": {},
   "outputs": [
    {
     "ename": "KeyError",
     "evalue": "'list'",
     "output_type": "error",
     "traceback": [
      "\u001b[1;31m---------------------------------------------------------------------------\u001b[0m",
      "\u001b[1;31mKeyError\u001b[0m                                  Traceback (most recent call last)",
      "\u001b[1;32m<ipython-input-72-864a3609fa3f>\u001b[0m in \u001b[0;36m<module>\u001b[1;34m\u001b[0m\n\u001b[0;32m      1\u001b[0m \u001b[1;31m# Loop Through the JSON\u001b[0m\u001b[1;33m\u001b[0m\u001b[1;33m\u001b[0m\u001b[1;33m\u001b[0m\u001b[0m\n\u001b[1;32m----> 2\u001b[1;33m \u001b[1;32mfor\u001b[0m \u001b[0mnum_forecasts\u001b[0m \u001b[1;32min\u001b[0m \u001b[0mforecast_json_data\u001b[0m\u001b[1;33m[\u001b[0m\u001b[1;34m'list'\u001b[0m\u001b[1;33m]\u001b[0m\u001b[1;33m:\u001b[0m\u001b[1;33m\u001b[0m\u001b[1;33m\u001b[0m\u001b[0m\n\u001b[0m\u001b[0;32m      3\u001b[0m     \u001b[0mdf_predictions\u001b[0m\u001b[1;33m[\u001b[0m\u001b[1;34m'prediction_num'\u001b[0m\u001b[1;33m]\u001b[0m \u001b[1;33m=\u001b[0m \u001b[0mprediction_num\u001b[0m\u001b[1;33m\u001b[0m\u001b[1;33m\u001b[0m\u001b[0m\n\u001b[0;32m      4\u001b[0m     \u001b[0mlist_prediction_num\u001b[0m\u001b[1;33m.\u001b[0m\u001b[0mappend\u001b[0m\u001b[1;33m(\u001b[0m\u001b[0mprediction_num\u001b[0m\u001b[1;33m)\u001b[0m\u001b[1;33m\u001b[0m\u001b[1;33m\u001b[0m\u001b[0m\n\u001b[0;32m      5\u001b[0m     \u001b[0mdate_time_prediction\u001b[0m\u001b[1;33m.\u001b[0m\u001b[0mappend\u001b[0m\u001b[1;33m(\u001b[0m\u001b[0mforecast_json_data\u001b[0m\u001b[1;33m[\u001b[0m\u001b[1;34m'list'\u001b[0m\u001b[1;33m]\u001b[0m\u001b[1;33m[\u001b[0m\u001b[0mprediction_num\u001b[0m\u001b[1;33m]\u001b[0m\u001b[1;33m[\u001b[0m\u001b[1;34m'dt_txt'\u001b[0m\u001b[1;33m]\u001b[0m\u001b[1;33m)\u001b[0m\u001b[1;33m\u001b[0m\u001b[1;33m\u001b[0m\u001b[0m\n",
      "\u001b[1;31mKeyError\u001b[0m: 'list'"
     ]
    }
   ],
   "source": [
    "# Loop Through the JSON\n",
    "for num_forecasts in forecast_json_data['list']:\n",
    "    df_predictions['prediction_num'] = prediction_num\n",
    "    list_prediction_num.append(prediction_num)\n",
    "    date_time_prediction.append(forecast_json_data['list'][prediction_num]['dt_txt'])\n",
    "    \n",
    "    owm_city_id.append(forecast_json_data['city']['id'])\n",
    "    city_name.append(forecast_json_data['city']['name'])\n",
    "    latitude.append(forecast_json_data['city']['coord']['lat'])\n",
    "    longitude.append(forecast_json_data['city']['coord']['lon'])\n",
    "    country_name.append(forecast_json_data['city']['country'])\n",
    "    population.append(forecast_json_data['city']['population'])\n",
    "    \n",
    "    if forecast_json_data['city']['timezone'] >0 :\n",
    "        timezone.append(\"+\" + str((forecast_json_data['city']['timezone'])/3600))\n",
    "    else:\n",
    "        timezone.append((forecast_json_data['city']['timezone'])/3600)\n",
    "        \n",
    "    sunrise.append(forecast_json_data['city']['sunrise'])\n",
    "    sunset.append(forecast_json_data['city']['sunset'])\n",
    "    \n",
    "    # Main\n",
    "    temp_prediction.append(forecast_json_data['list'][prediction_num]['main']['temp'])\n",
    "    temp_feels_like_prediction.append(forecast_json_data['list'][prediction_num]['main']['feels_like'])\n",
    "    temp_min_prediction.append(forecast_json_data['list'][prediction_num]['main']['temp_min'])\n",
    "    temp_max_prediction.append(forecast_json_data['list'][prediction_num]['main']['temp_max'])\n",
    "    pressure_prediction.append(forecast_json_data['list'][prediction_num]['main']['pressure'])\n",
    "    sea_level_prediction.append(forecast_json_data['list'][prediction_num]['main']['sea_level'])\n",
    "    grnd_level_prediction.append(forecast_json_data['list'][prediction_num]['main']['grnd_level'])\n",
    "    humidity_prediction.append(forecast_json_data['list'][prediction_num]['main']['humidity'])\n",
    "    temp_kf_prediction.append(forecast_json_data['list'][prediction_num]['main']['temp_kf'])\n",
    "    # Weather\n",
    "    main_weather_prediction.append(forecast_json_data['list'][prediction_num]['weather'][0]['main'])\n",
    "    main_weather_description_prediction.append(forecast_json_data['list'][prediction_num]['weather'][0]['description'])\n",
    "    # Clouds\n",
    "    clouds_prediction.append(forecast_json_data['list'][prediction_num]['clouds']['all'])\n",
    "    # Wind\n",
    "    wind_speed_prediction.append(forecast_json_data['list'][prediction_num]['wind']['speed'])\n",
    "    wind_degree_prediction.append(forecast_json_data['list'][prediction_num]['wind']['deg'])\n",
    "    \n",
    "    prediction_num += 1"
   ]
  },
  {
   "cell_type": "code",
   "execution_count": 73,
   "metadata": {},
   "outputs": [],
   "source": [
    "# Put data into a dataframe\n",
    "df_predictions['prediction_num'] = list_prediction_num\n",
    "df_predictions['date_time_prediction'] = date_time_prediction\n",
    "df_predictions['owm_city_id'] = owm_city_id\n",
    "df_predictions['city_name'] = city_name\n",
    "df_predictions['latitude'] = latitude\n",
    "df_predictions['longitude'] = longitude\n",
    "df_predictions['country_name'] = country_name\n",
    "df_predictions['population'] = population\n",
    "df_predictions['timezone'] = timezone\n",
    "df_predictions['sunrise'] = sunrise\n",
    "df_predictions['sunset'] = sunset\n",
    "\n",
    "    # Main\n",
    "df_predictions['temp_prediction'] = temp_prediction\n",
    "df_predictions['temp_feels_like_prediction'] = temp_feels_like_prediction\n",
    "df_predictions['temp_min_prediction'] = temp_min_prediction\n",
    "df_predictions['temp_max_prediction'] = temp_max_prediction\n",
    "df_predictions['pressure_prediction'] = pressure_prediction\n",
    "df_predictions['sea_level_prediction'] = sea_level_prediction\n",
    "df_predictions['grnd_level_prediction'] = grnd_level_prediction\n",
    "df_predictions['humidity_prediction'] = humidity_prediction\n",
    "df_predictions['temp_kf_prediction'] = temp_kf_prediction\n",
    "    # Weather\n",
    "df_predictions['main_weather_prediction'] = main_weather_prediction\n",
    "df_predictions['main_weather_description_prediction'] = main_weather_description_prediction\n",
    "    # Clouds\n",
    "df_predictions['clouds_prediction'] = clouds_prediction\n",
    "    # Wind\n",
    "df_predictions['wind_speed_prediction'] = wind_speed_prediction\n",
    "df_predictions['wind_degree_prediction'] = wind_degree_prediction"
   ]
  },
  {
   "cell_type": "code",
   "execution_count": 74,
   "metadata": {},
   "outputs": [
    {
     "data": {
      "text/html": [
       "<div>\n",
       "<style scoped>\n",
       "    .dataframe tbody tr th:only-of-type {\n",
       "        vertical-align: middle;\n",
       "    }\n",
       "\n",
       "    .dataframe tbody tr th {\n",
       "        vertical-align: top;\n",
       "    }\n",
       "\n",
       "    .dataframe thead th {\n",
       "        text-align: right;\n",
       "    }\n",
       "</style>\n",
       "<table border=\"1\" class=\"dataframe\">\n",
       "  <thead>\n",
       "    <tr style=\"text-align: right;\">\n",
       "      <th></th>\n",
       "      <th>prediction_num</th>\n",
       "      <th>date_time_prediction</th>\n",
       "      <th>owm_city_id</th>\n",
       "      <th>city_name</th>\n",
       "      <th>latitude</th>\n",
       "      <th>longitude</th>\n",
       "      <th>country_name</th>\n",
       "      <th>population</th>\n",
       "      <th>timezone</th>\n",
       "      <th>sunrise</th>\n",
       "      <th>sunset</th>\n",
       "      <th>temp_prediction</th>\n",
       "      <th>temp_feels_like_prediction</th>\n",
       "      <th>temp_min_prediction</th>\n",
       "      <th>temp_max_prediction</th>\n",
       "      <th>pressure_prediction</th>\n",
       "      <th>sea_level_prediction</th>\n",
       "      <th>grnd_level_prediction</th>\n",
       "      <th>humidity_prediction</th>\n",
       "      <th>temp_kf_prediction</th>\n",
       "      <th>main_weather_prediction</th>\n",
       "      <th>main_weather_description_prediction</th>\n",
       "      <th>clouds_prediction</th>\n",
       "      <th>wind_speed_prediction</th>\n",
       "      <th>wind_degree_prediction</th>\n",
       "    </tr>\n",
       "  </thead>\n",
       "  <tbody>\n",
       "  </tbody>\n",
       "</table>\n",
       "</div>"
      ],
      "text/plain": [
       "Empty DataFrame\n",
       "Columns: [prediction_num, date_time_prediction, owm_city_id, city_name, latitude, longitude, country_name, population, timezone, sunrise, sunset, temp_prediction, temp_feels_like_prediction, temp_min_prediction, temp_max_prediction, pressure_prediction, sea_level_prediction, grnd_level_prediction, humidity_prediction, temp_kf_prediction, main_weather_prediction, main_weather_description_prediction, clouds_prediction, wind_speed_prediction, wind_degree_prediction]\n",
       "Index: []"
      ]
     },
     "execution_count": 74,
     "metadata": {},
     "output_type": "execute_result"
    }
   ],
   "source": [
    "df_predictions.head()"
   ]
  },
  {
   "cell_type": "code",
   "execution_count": null,
   "metadata": {},
   "outputs": [],
   "source": []
  }
 ],
 "metadata": {
  "kernelspec": {
   "display_name": "Python 3",
   "language": "python",
   "name": "python3"
  },
  "language_info": {
   "codemirror_mode": {
    "name": "ipython",
    "version": 3
   },
   "file_extension": ".py",
   "mimetype": "text/x-python",
   "name": "python",
   "nbconvert_exporter": "python",
   "pygments_lexer": "ipython3",
   "version": "3.8.3"
  }
 },
 "nbformat": 4,
 "nbformat_minor": 2
}
